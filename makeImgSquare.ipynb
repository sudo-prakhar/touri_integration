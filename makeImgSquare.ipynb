{
 "cells": [
  {
   "cell_type": "code",
   "execution_count": 4,
   "metadata": {},
   "outputs": [],
   "source": [
    "import cv2\n",
    "\n",
    "desired_size = 1280\n",
    "\n",
    "input_path=\"temp_img.jpeg\"\n",
    "im = cv2.imread(input_path)\n",
    "\n",
    "old_size = im.shape[:2] # old_size is in (height, width) format\n",
    "\n",
    "ratio = float(desired_size)/max(old_size)\n",
    "new_size = tuple([int(x*ratio) for x in old_size])\n",
    "\n",
    "# new_size should be in (width, height) format\n",
    "\n",
    "im = cv2.resize(im, (new_size[1], new_size[0]))\n",
    "delta_w = desired_size - new_size[1]\n",
    "delta_h = desired_size - new_size[0]\n",
    "top, bottom = delta_h//2, delta_h-(delta_h//2)\n",
    "left, right = delta_w//2, delta_w-(delta_w//2)\n",
    "\n",
    "color = [0, 0, 0]\n",
    "new_im = cv2.copyMakeBorder(im, top, bottom, left, right, cv2.BORDER_CONSTANT,\n",
    "    value=color)\n"
   ]
  },
  {
   "cell_type": "code",
   "execution_count": null,
   "metadata": {},
   "outputs": [],
   "source": []
  }
 ],
 "metadata": {
  "kernelspec": {
   "display_name": "Python 3.8.13 ('CVA')",
   "language": "python",
   "name": "python3"
  },
  "language_info": {
   "codemirror_mode": {
    "name": "ipython",
    "version": 3
   },
   "file_extension": ".py",
   "mimetype": "text/x-python",
   "name": "python",
   "nbconvert_exporter": "python",
   "pygments_lexer": "ipython3",
   "version": "3.8.13"
  },
  "orig_nbformat": 4,
  "vscode": {
   "interpreter": {
    "hash": "724ee814fb5d4fd6a3411aedd31b45cef82b65be47ed824b31b1855786e6516f"
   }
  }
 },
 "nbformat": 4,
 "nbformat_minor": 2
}
