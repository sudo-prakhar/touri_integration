{
 "cells": [
  {
   "cell_type": "code",
   "execution_count": 1,
   "metadata": {},
   "outputs": [],
   "source": [
    "import time\n",
    "import firebase_admin\n",
    "from firebase_admin import credentials, db, storage\n",
    "from datetime import datetime\n",
    "import os\n",
    "import keyboard"
   ]
  },
  {
   "cell_type": "code",
   "execution_count": 2,
   "metadata": {},
   "outputs": [
    {
     "data": {
      "text/plain": [
       "<firebase_admin.App at 0x7fb42ae81790>"
      ]
     },
     "execution_count": 2,
     "metadata": {},
     "output_type": "execute_result"
    }
   ],
   "source": [
    "cred = credentials.Certificate(\"keys/touri-65f07-firebase-adminsdk-wuv71-b245c875f8.json\")\n",
    "firebase_admin.initialize_app(cred, {\n",
    "    'databaseURL': 'https://touri-65f07-default-rtdb.firebaseio.com/',\n",
    "    'storageBucket' : 'touri-65f07.appspot.com' \n",
    "    })"
   ]
  },
  {
   "cell_type": "markdown",
   "metadata": {},
   "source": [
    "# MESSAGING"
   ]
  },
  {
   "cell_type": "code",
   "execution_count": null,
   "metadata": {},
   "outputs": [],
   "source": [
    "def sendMsgToUser(msg):\n",
    "    db.reference(\"state\").update({\n",
    "        \"botMsg\" : msg\n",
    "    })\n"
   ]
  },
  {
   "cell_type": "markdown",
   "metadata": {},
   "source": [
    "# NAVIGATION"
   ]
  },
  {
   "cell_type": "markdown",
   "metadata": {},
   "source": [
    "### UPDATE MAP COORDS"
   ]
  },
  {
   "cell_type": "code",
   "execution_count": null,
   "metadata": {},
   "outputs": [],
   "source": [
    "msgEncode = {\n",
    "    'ok' : 0,\n",
    "    'close' : 1,\n",
    "    'too close' : 2,\n",
    "}"
   ]
  },
  {
   "cell_type": "code",
   "execution_count": 3,
   "metadata": {},
   "outputs": [],
   "source": [
    "def updateBotPosInMap(x,y):\n",
    "    '''\n",
    "    X => 0 and 1\n",
    "    Y => 0 and 1\n",
    "    '''\n",
    "    assert abs(x) <= 1, \"X must be between 0 and 1\"\n",
    "    assert abs(y) <= 1, \"Y must be between 0 and 1\"\n",
    "    db.reference(\"autoSkills/navigation/botPos\").update({\n",
    "        \"x\" : x,\n",
    "        \"y\": y\n",
    "    })"
   ]
  },
  {
   "cell_type": "code",
   "execution_count": null,
   "metadata": {},
   "outputs": [],
   "source": [
    "updateBotPosInMap(1,0)"
   ]
  },
  {
   "cell_type": "code",
   "execution_count": null,
   "metadata": {},
   "outputs": [],
   "source": [
    "def updateProximity(top, bottom, left, right):\n",
    "    '''\n",
    "    OKAY => 0\n",
    "    CLOSE => 1\n",
    "    VERY CLOSE => 2\n",
    "    '''\n",
    "    assert top in (0,1,2), \"Front proximity can only take values of 0,1,2\"\n",
    "    assert bottom in (0,1,2), \"Front proximity can only take values of 0,1,2\"\n",
    "    assert left in (0,1,2), \"Front proximity can only take values of 0,1,2\"\n",
    "    assert right in (0,1,2), \"Front proximity can only take values of 0,1,2\"\n",
    "    db.reference(\"state/navObjProximity\").update({\n",
    "        \"top\" : top,\n",
    "        \"bottom\": bottom,\n",
    "        \"left\": left,\n",
    "        \"right\": right,\n",
    "    })\n",
    "\n"
   ]
  },
  {
   "cell_type": "code",
   "execution_count": null,
   "metadata": {},
   "outputs": [],
   "source": []
  },
  {
   "cell_type": "markdown",
   "metadata": {},
   "source": [
    "# PICK PLACE"
   ]
  },
  {
   "cell_type": "markdown",
   "metadata": {},
   "source": [
    "### UPLOAD IMG"
   ]
  },
  {
   "cell_type": "code",
   "execution_count": null,
   "metadata": {},
   "outputs": [],
   "source": [
    "def uploadImg(imgPath):\n",
    "    bucket = storage.bucket()\n",
    "    blob = bucket.blob(imgPath)\n",
    "    blob.upload_from_filename(imgPath)\n",
    "    blob.make_public()\n",
    "    \n",
    "    db.reference(\"autoSkills/pickPlace\").update({\n",
    "        \"imgSrc\" : blob.public_url\n",
    "    })\n"
   ]
  },
  {
   "cell_type": "code",
   "execution_count": null,
   "metadata": {},
   "outputs": [],
   "source": [
    "uploadImg(\"pickPlaceImg.jpeg\")"
   ]
  },
  {
   "cell_type": "code",
   "execution_count": null,
   "metadata": {},
   "outputs": [],
   "source": []
  }
 ],
 "metadata": {
  "kernelspec": {
   "display_name": "Python 3.7.13 ('Touri')",
   "language": "python",
   "name": "python3"
  },
  "language_info": {
   "codemirror_mode": {
    "name": "ipython",
    "version": 3
   },
   "file_extension": ".py",
   "mimetype": "text/x-python",
   "name": "python",
   "nbconvert_exporter": "python",
   "pygments_lexer": "ipython3",
   "version": "3.7.13"
  },
  "orig_nbformat": 4,
  "vscode": {
   "interpreter": {
    "hash": "bc122b85bdab32c5111a80de3e40632fab5a3fb55a96b658a12b38a8a733d525"
   }
  }
 },
 "nbformat": 4,
 "nbformat_minor": 2
}
