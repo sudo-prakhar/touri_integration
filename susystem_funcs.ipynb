{
 "cells": [
  {
   "cell_type": "code",
   "execution_count": 1,
   "metadata": {},
   "outputs": [],
   "source": [
    "import time\n",
    "import firebase_admin\n",
    "from firebase_admin import credentials, db, storage\n",
    "from datetime import datetime\n",
    "import os\n",
    "import keyboard"
   ]
  },
  {
   "cell_type": "code",
   "execution_count": 3,
   "metadata": {},
   "outputs": [
    {
     "data": {
      "text/plain": [
       "<firebase_admin.App at 0x7fe488d43450>"
      ]
     },
     "execution_count": 3,
     "metadata": {},
     "output_type": "execute_result"
    }
   ],
   "source": [
    "cred = credentials.Certificate(\"keys/touri-65f07-firebase-adminsdk-wuv71-b245c875f8.json\")\n",
    "firebase_admin.initialize_app(cred, {\n",
    "    'databaseURL': 'https://touri-65f07-default-rtdb.firebaseio.com/',\n",
    "    'storageBucket' : 'touri-65f07.appspot.com' \n",
    "    })"
   ]
  },
  {
   "cell_type": "markdown",
   "metadata": {},
   "source": [
    "# MESSAGING"
   ]
  },
  {
   "cell_type": "code",
   "execution_count": null,
   "metadata": {},
   "outputs": [],
   "source": [
    "def sendMsgToUser(msg):\n",
    "    try : \n",
    "        cred = credentials.Certificate(\"keys/touri-65f07-firebase-adminsdk-wuv71-b245c875f8.json\")\n",
    "        firebase_admin.initialize_app(cred, {\n",
    "            'databaseURL': 'https://touri-65f07-default-rtdb.firebaseio.com/',\n",
    "            'storageBucket' : 'touri-65f07.appspot.com' \n",
    "        })\n",
    "    except:\n",
    "        pass  \n",
    "    \n",
    "    db.reference(\"state\").update({\n",
    "        \"botMsg\" : msg\n",
    "    })\n"
   ]
  },
  {
   "cell_type": "markdown",
   "metadata": {},
   "source": [
    "# NAVIAGTION\n"
   ]
  },
  {
   "cell_type": "markdown",
   "metadata": {},
   "source": [
    "### UPDATE MAP COORDS"
   ]
  },
  {
   "cell_type": "code",
   "execution_count": 126,
   "metadata": {},
   "outputs": [],
   "source": [
    "def updateBotPosInMap(x,y):\n",
    "    '''\n",
    "    xScale = 16.2 / (700-160) \n",
    "    yScale = 18.7 / (1050 - 500)\n",
    "\n",
    "    print(f\"X: {xScale}     Y: {yScale}\")\n",
    "    '''\n",
    "\n",
    "    try : \n",
    "        cred = credentials.Certificate(\"keys/touri-65f07-firebase-adminsdk-wuv71-b245c875f8.json\")\n",
    "        firebase_admin.initialize_app(cred, {\n",
    "            'databaseURL': 'https://touri-65f07-default-rtdb.firebaseio.com/',\n",
    "            'storageBucket' : 'touri-65f07.appspot.com' \n",
    "        })\n",
    "    except:\n",
    "        pass  \n",
    "\n",
    "    scale = 0.035\n",
    "\n",
    "    x = x * scale\n",
    "    y = y * scale\n",
    "    x = x + 0.12\n",
    "    y =  0.915 - y\n",
    "\n",
    "    assert abs(x) <= 1, \"X must be between 0 and 1\"\n",
    "    assert abs(y) <= 1, \"Y must be between 0 and 1\"\n",
    "    db.reference(\"autoSkills/navigation/botPos\").update({\n",
    "        \"x\" : x,\n",
    "        \"y\": y\n",
    "    })"
   ]
  },
  {
   "cell_type": "markdown",
   "metadata": {},
   "source": [
    "### PROXIMITY"
   ]
  },
  {
   "cell_type": "code",
   "execution_count": 8,
   "metadata": {},
   "outputs": [],
   "source": [
    "def updateProximity(top, back, left, right):\n",
    "\n",
    "    assert top in ('ok','close','too close'), \"Front proximity can only take values of ('ok','close','too close')\"\n",
    "    assert back in ('ok','close','too close'), \"Back proximity can only take values of ('ok','close','too close')\"\n",
    "    assert left in ('ok','close','too close'), \"Left proximity can only take values of ('ok','close','too close')\"\n",
    "    assert right in ('ok','close','too close'), \"Right proximity can only take values of ('ok','close','too close')\"\n",
    "\n",
    "\n",
    "    try : \n",
    "        cred = credentials.Certificate(\"keys/touri-65f07-firebase-adminsdk-wuv71-b245c875f8.json\")\n",
    "        firebase_admin.initialize_app(cred, {\n",
    "            'databaseURL': 'https://touri-65f07-default-rtdb.firebaseio.com/',\n",
    "            'storageBucket' : 'touri-65f07.appspot.com' \n",
    "        })\n",
    "    except:\n",
    "        pass   \n",
    "\n",
    "    msgEncode = {\n",
    "            'ok' : 0,\n",
    "            'close' : 1,\n",
    "            'too close' : 2,\n",
    "            }\n",
    "            \n",
    "    db.reference(\"state/navObjProximity\").update({\n",
    "        \"top\" : msgEncode[top],\n",
    "        \"back\": msgEncode[back],\n",
    "        \"left\": msgEncode[left],\n",
    "        \"right\": msgEncode[right],\n",
    "    })\n",
    "\n"
   ]
  },
  {
   "cell_type": "markdown",
   "metadata": {},
   "source": [
    "### SAVE POSITION"
   ]
  },
  {
   "cell_type": "code",
   "execution_count": 6,
   "metadata": {},
   "outputs": [],
   "source": [
    "def savePosition(x, y):\n",
    "    try : \n",
    "        cred = credentials.Certificate(\"keys/touri-65f07-firebase-adminsdk-wuv71-b245c875f8.json\")\n",
    "        firebase_admin.initialize_app(cred, {\n",
    "            'databaseURL': 'https://touri-65f07-default-rtdb.firebaseio.com/',\n",
    "            'storageBucket' : 'touri-65f07.appspot.com' \n",
    "        })\n",
    "    except:\n",
    "        pass    \n",
    "            \n",
    "    db.reference(\"state/location\").update({\n",
    "        'x' : x,\n",
    "        'y' : y\n",
    "    })\n"
   ]
  },
  {
   "cell_type": "markdown",
   "metadata": {},
   "source": [
    "### GET LAST SAVED VALUE"
   ]
  },
  {
   "cell_type": "code",
   "execution_count": null,
   "metadata": {},
   "outputs": [],
   "source": [
    "def getLastSavedPosition():\n",
    "    try : \n",
    "        cred = credentials.Certificate(\"keys/touri-65f07-firebase-adminsdk-wuv71-b245c875f8.json\")\n",
    "        firebase_admin.initialize_app(cred, {\n",
    "            'databaseURL': 'https://touri-65f07-default-rtdb.firebaseio.com/',\n",
    "            'storageBucket' : 'touri-65f07.appspot.com' \n",
    "        })\n",
    "    except:\n",
    "        pass  \n",
    "\n",
    "    x,y = db.reference(\"state/location\").get().values()\n",
    "    return x, y\n",
    "\n"
   ]
  },
  {
   "cell_type": "markdown",
   "metadata": {},
   "source": [
    "# PICK PLACE"
   ]
  },
  {
   "cell_type": "markdown",
   "metadata": {},
   "source": [
    "### UPLOAD IMG"
   ]
  },
  {
   "cell_type": "code",
   "execution_count": null,
   "metadata": {},
   "outputs": [],
   "source": [
    "def uploadImg(imgPath):\n",
    "    try : \n",
    "        cred = credentials.Certificate(\"keys/touri-65f07-firebase-adminsdk-wuv71-b245c875f8.json\")\n",
    "        firebase_admin.initialize_app(cred, {\n",
    "            'databaseURL': 'https://touri-65f07-default-rtdb.firebaseio.com/',\n",
    "            'storageBucket' : 'touri-65f07.appspot.com' \n",
    "        })\n",
    "    except:\n",
    "        pass  \n",
    "    bucket = storage.bucket()\n",
    "    blob = bucket.blob(imgPath)\n",
    "    blob.upload_from_filename(imgPath)\n",
    "    blob.make_public()\n",
    "    \n",
    "    db.reference(\"autoSkills/pickPlace\").update({\n",
    "        \"imgSrc\" : blob.public_url\n",
    "    })\n"
   ]
  },
  {
   "cell_type": "code",
   "execution_count": null,
   "metadata": {},
   "outputs": [],
   "source": [
    "uploadImg(\"pickPlaceImg.jpeg\")"
   ]
  },
  {
   "cell_type": "code",
   "execution_count": null,
   "metadata": {},
   "outputs": [],
   "source": []
  }
 ],
 "metadata": {
  "kernelspec": {
   "display_name": "Python 3.7.13 ('Touri')",
   "language": "python",
   "name": "python3"
  },
  "language_info": {
   "codemirror_mode": {
    "name": "ipython",
    "version": 3
   },
   "file_extension": ".py",
   "mimetype": "text/x-python",
   "name": "python",
   "nbconvert_exporter": "python",
   "pygments_lexer": "ipython3",
   "version": "3.7.13"
  },
  "orig_nbformat": 4,
  "vscode": {
   "interpreter": {
    "hash": "bc122b85bdab32c5111a80de3e40632fab5a3fb55a96b658a12b38a8a733d525"
   }
  }
 },
 "nbformat": 4,
 "nbformat_minor": 2
}
